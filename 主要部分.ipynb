{
 "cells": [
  {
   "cell_type": "code",
   "execution_count": 1,
   "metadata": {},
   "outputs": [
    {
     "name": "stdout",
     "output_type": "stream",
     "text": [
      "1730\n"
     ]
    }
   ],
   "source": [
    "#把csv中的数据把lebel和txt分开 写入txt  tetx这个句子词用于glove或者word2vec训练使用的 \n",
    "import pandas as pd\n",
    "def save_textorlabel_txt(in_filename,out_text_filename,out_label_filename):\n",
    "    df=pd.read_csv(in_filename)\n",
    "    with open(in_filename, 'r') as f: #计算长度\n",
    "        hang_count=len(f.readlines())\n",
    "        print(hang_count)\n",
    "    for i in range(1,hang_count-1,1): #以防数据多少回出现问题啥的 \n",
    "        row=df.values[i]\n",
    "        row=row[0].split()  #把这些数据变成一个列表\n",
    "        label=row[0]        # 取出来列表的第一个值是标签 \n",
    "        file_0=open(out_label_filename,'a')\n",
    "        file_0.write(str(label))\n",
    "        file_0.write(\"\\n\")\n",
    "        file_0.close()\n",
    "        \n",
    "        hang_txt=row[1:]    # 取出来剩余的数据是这一行的数据\n",
    "        file = open(out_text_filename,'a')\n",
    "        for i in range(len(hang_txt)):\n",
    "             file.write(str(hang_txt[i])+\" \")\n",
    "        file.write(\"\\n\")\n",
    "        file.close()\n",
    "    print(\"完成了\")\n",
    "save_textorlabel_txt('train_set.csv','text.txt','label.txt')"
   ]
  },
  {
   "cell_type": "markdown",
   "metadata": {},
   "source": [
    "把glove生成的词向量模型转化成word2vec的类型 然后用gensim中的函数来读取这个词向量  这个模型中\n",
    "一共有3216个词向量 每个词向量是300维 在训练的时候 出现次数小于5次的单词给忽略掉了 "
   ]
  },
  {
   "attachments": {
    "aa2e7730-0b37-447b-9bb1-07106eb89b67.png": {
     "image/png": "[encoded data removed]"
    }
   },
   "cell_type": "markdown",
   "metadata": {},
   "source": [
    "![image.png](attachment:aa2e7730-0b37-447b-9bb1-07106eb89b67.png)"
   ]
  },
  {
   "cell_type": "markdown",
   "metadata": {},
   "source": [
    "下面是导入这个词向量模型 进行一些读取测试"
   ]
  },
  {
   "cell_type": "code",
   "execution_count": 1,
   "metadata": {},
   "outputs": [
    {
     "name": "stderr",
     "output_type": "stream",
     "text": [
      "/opt/conda/lib/python3.6/site-packages/ipykernel_launcher.py:5: DeprecationWarning: Call to deprecated `wv` (Attribute will be removed in 4.0.0, use self instead).\n",
      "  \"\"\"\n"
     ]
    }
   ],
   "source": [
    "from gensim.models import KeyedVectors\n",
    "from gensim.scripts.glove2word2vec import glove2word2vec\n",
    "# glove2word2vec(\"text_train_glove_vectors.txt\", \"text_train_vectors_wd2.txt\") #\n",
    "new_model = KeyedVectors.load_word2vec_format('text_train_vectors_wd2.txt', binary=False)\n",
    "vectors = new_model.wv.vectors"
   ]
  },
  {
   "cell_type": "markdown",
   "metadata": {},
   "source": [
    "先把csv中一个句子拿出来  然后把每个单词去词训练库里面找对应的向量规定对于每个句子矩阵都构建一个2000,300的矩阵。"
   ]
  },
  {
   "cell_type": "code",
   "execution_count": 2,
   "metadata": {},
   "outputs": [],
   "source": [
    "import pandas as pd\n",
    "import numpy as np \n",
    "df=pd.read_csv(\"train_set.csv\")\n",
    "# with open(\"train_set.csv\", 'r') as f: #计算长度\n",
    "#     hang_count=len(f.readlines())\n",
    "def hang_vectoes_label(index): # 要读取csv文本第几行的文章数据 会返回一个 列表里面是文章的词向量矩阵和标签值\n",
    "    row=df.values[index] #读取数据的第几行\n",
    "    row=row[0].split()   #这些数据变成一个列表\n",
    "    label=row[0]\n",
    "    hang_txt=row[1:]\n",
    "    hang_labeltxt_juzhen=[]\n",
    "    meihang_wenben_juzhen=np.zeros((2000,300))#，每一个文本定义一个空的全0的2000,300的矩阵 \n",
    "    t=0\n",
    "    for a in hang_txt:\n",
    "        try:\n",
    "            vec = new_model[a]  #从词库里面取出这些词对应的向量 \n",
    "        except KeyError:        #当在词向量模型中没有这个单词的向量的时候可以设置错误跳过 然后把这个单词的向量设置为全0\n",
    "            vec=np.zeros((1,300))\n",
    "        meihang_wenben_juzhen[int(t)]=vec\n",
    "        if t ==1999:\n",
    "            break\n",
    "        t=t+1\n",
    "#     print(meihang_wenben_juzhen.shape)\n",
    "    hang_labeltxt_juzhen.append(label)\n",
    "    hang_labeltxt_juzhen.append(meihang_wenben_juzhen)\n",
    "    return hang_labeltxt_juzhen\n",
    "# a=hang_vectoes_label(0)  #返回一个列表 第一个是行文本的分类的label 第二个是行文本 2000*300 的词向量矩阵 \n",
    "# # 这个原始数据有1730条文本 数据 "
   ]
  },
  {
   "cell_type": "markdown",
   "metadata": {},
   "source": [
    "手动对数据分batch 并且把数据加载到dataloader"
   ]
  },
  {
   "cell_type": "code",
   "execution_count": 3,
   "metadata": {},
   "outputs": [],
   "source": [
    "import torch\n",
    "import torch.utils.data as data\n",
    "def dataloader_batch(start,end,batch,shuffle):# 把多少行的数据加入到这个data.TensorDataset中 然后在对这个中的这些行数据分batch训练\n",
    "            #     开始     终止 batch大小  是否打乱 True False \n",
    "    x=[]\n",
    "    y=[]\n",
    "    for i in range(int(start),int(end),1):\n",
    "        a=hang_vectoes_label(i)\n",
    "        x_1=a[1]\n",
    "        y_1=int(a[0])\n",
    "        x.append(x_1)\n",
    "        y.append(y_1)\n",
    "    x=torch.Tensor(x)\n",
    "    y=torch.Tensor(y)\n",
    "    torch_dataset = data.TensorDataset(x, y) #要求这两部分 第一个维度是相同的 \n",
    "    loader = data.DataLoader(\n",
    "        dataset=torch_dataset,\n",
    "        batch_size=batch,             # 每批提取的数量\n",
    "        shuffle=shuffle,             # 要不要打乱数据（打乱比较好）\n",
    "        num_workers=0)            # 多少线程来读取数据\n",
    "    return loader \n"
   ]
  },
  {
   "cell_type": "markdown",
   "metadata": {},
   "source": [
    "建立定义，模型。优化器，损失函数 。\n"
   ]
  },
  {
   "cell_type": "code",
   "execution_count": 4,
   "metadata": {},
   "outputs": [],
   "source": [
    "import torch\n",
    "import torch.nn.functional as F\n",
    "from torch import nn\n",
    "class BiRNN(nn.Module):\n",
    "    def __init__(self):\n",
    "        super(BiRNN, self).__init__()\n",
    "        \n",
    "        self.embed_size=300  #样本得输入维度 \n",
    "        self.num_hiddens=100 # 隐藏层神经元的个数\n",
    "        self.num_layers=2\n",
    "        self.encoder = nn.LSTM(input_size=self.embed_size, \n",
    "                                hidden_size=self.num_hiddens, \n",
    "                                num_layers=self.num_layers,\n",
    "                                bidirectional=True)\n",
    "        \n",
    "        self.decoder = nn.Linear(4*self.num_hiddens, 14)\n",
    "\n",
    "    def forward(self, x):\n",
    "        x=x.reshape(2000,32,300)\n",
    "        #                batch大小\n",
    "#         print(x.shape)\n",
    "        x=torch.Tensor(x)\n",
    "        outputs, _ = self.encoder(x) \n",
    "        encoding = torch.cat((outputs[0], outputs[-1]), -1)\n",
    "        outs = self.decoder(encoding)\n",
    "        outs = F.sigmoid(outs)\n",
    "        return outs\n"
   ]
  },
  {
   "cell_type": "code",
   "execution_count": 5,
   "metadata": {},
   "outputs": [],
   "source": [
    "model = BiRNN()\n",
    "# model.aux_logits=False\n",
    "criterion = torch.nn.CrossEntropyLoss()  # 损失函数的计算 交叉熵损失函数计算\n",
    "# optimizer=optim.SGD(model.parameters(),lr=0.01,momentum=0.5)\n",
    "optimizer = torch.optim.SGD(model.parameters(), lr=0.01)  # 优化器\n",
    "# momentum是优化梯度的方向自动适应学习率"
   ]
  },
  {
   "attachments": {
    "f5a51b7d-e862-4cbf-a282-7ab947901684.png": {
     "image/png": "[encoded data removed]"
    }
   },
   "cell_type": "markdown",
   "metadata": {},
   "source": [
    "开始训练：\n",
    "1700多条数据，每次传入dataloader中320条， 然后分6次传入， 每次这360条数据分为10个batch 每个batch有32条数据。 \n",
    "世代预设3个世代 \n",
    "当前cpu速度\n",
    "![image.png](attachment:f5a51b7d-e862-4cbf-a282-7ab947901684.png)"
   ]
  },
  {
   "cell_type": "code",
   "execution_count": null,
   "metadata": {},
   "outputs": [
    {
     "name": "stdout",
     "output_type": "stream",
     "text": [
      "第0个320条数据内\n"
     ]
    },
    {
     "name": "stderr",
     "output_type": "stream",
     "text": [
      "/home/admin/.local/lib/python3.6/site-packages/torch/nn/functional.py:1569: UserWarning: nn.functional.sigmoid is deprecated. Use torch.sigmoid instead.\n",
      "  warnings.warn(\"nn.functional.sigmoid is deprecated. Use torch.sigmoid instead.\")\n"
     ]
    },
    {
     "name": "stdout",
     "output_type": "stream",
     "text": [
      "第0个320条数据内 epoch世代: 0 第0个batch: 这个batch的损失值 2.63988995552063\n",
      "第0个320条数据内 epoch世代: 0 第1个batch: 这个batch的损失值 2.6415159702301025\n",
      "第0个320条数据内 epoch世代: 0 第2个batch: 这个batch的损失值 2.6422555446624756\n",
      "第0个320条数据内 epoch世代: 0 第3个batch: 这个batch的损失值 2.638054370880127\n",
      "第0个320条数据内 epoch世代: 0 第4个batch: 这个batch的损失值 2.639627456665039\n",
      "第0个320条数据内 epoch世代: 0 第5个batch: 这个batch的损失值 2.63897705078125\n",
      "第0个320条数据内 epoch世代: 0 第6个batch: 这个batch的损失值 2.639183759689331\n",
      "第0个320条数据内 epoch世代: 0 第7个batch: 这个batch的损失值 2.638066053390503\n",
      "第0个320条数据内 epoch世代: 0 第8个batch: 这个batch的损失值 2.6391093730926514\n",
      "第0个320条数据内 epoch世代: 0 第9个batch: 这个batch的损失值 2.6350109577178955\n",
      "第0个320条数据内 epoch世代: 1 第0个batch: 这个batch的损失值 2.6377077102661133\n",
      "第0个320条数据内 epoch世代: 1 第1个batch: 这个batch的损失值 2.6360113620758057\n",
      "第0个320条数据内 epoch世代: 1 第2个batch: 这个batch的损失值 2.633929491043091\n",
      "第0个320条数据内 epoch世代: 1 第3个batch: 这个batch的损失值 2.634321689605713\n",
      "第0个320条数据内 epoch世代: 1 第4个batch: 这个batch的损失值 2.6320595741271973\n",
      "第0个320条数据内 epoch世代: 1 第5个batch: 这个batch的损失值 2.633631467819214\n",
      "第0个320条数据内 epoch世代: 1 第6个batch: 这个batch的损失值 2.6300294399261475\n",
      "第0个320条数据内 epoch世代: 1 第7个batch: 这个batch的损失值 2.635348320007324\n",
      "第0个320条数据内 epoch世代: 1 第8个batch: 这个batch的损失值 2.6311962604522705\n",
      "第0个320条数据内 epoch世代: 1 第9个batch: 这个batch的损失值 2.6290218830108643\n",
      "第0个320条数据内 epoch世代: 2 第0个batch: 这个batch的损失值 2.627678155899048\n",
      "第0个320条数据内 epoch世代: 2 第1个batch: 这个batch的损失值 2.623527765274048\n",
      "第0个320条数据内 epoch世代: 2 第2个batch: 这个batch的损失值 2.6263041496276855\n",
      "第0个320条数据内 epoch世代: 2 第3个batch: 这个batch的损失值 2.624953508377075\n",
      "第0个320条数据内 epoch世代: 2 第4个batch: 这个batch的损失值 2.629441738128662\n",
      "第0个320条数据内 epoch世代: 2 第5个batch: 这个batch的损失值 2.6203348636627197\n",
      "第0个320条数据内 epoch世代: 2 第6个batch: 这个batch的损失值 2.6216251850128174\n",
      "第0个320条数据内 epoch世代: 2 第7个batch: 这个batch的损失值 2.616675615310669\n",
      "第0个320条数据内 epoch世代: 2 第8个batch: 这个batch的损失值 2.61767578125\n",
      "第0个320条数据内 epoch世代: 2 第9个batch: 这个batch的损失值 2.614328145980835\n",
      "第1个320条数据内\n"
     ]
    }
   ],
   "source": [
    "from torch import tensor\n",
    "for i in range(6): #全部是6\n",
    "    print(\"第\"+str(i)+\"个320条数据内\")\n",
    "    loader=dataloader_batch(i*320,i*320+320,32,True) \n",
    "    # print(loader)\n",
    "    # torch.Size([320, 2000, 300])\n",
    "    # torch.Size([320])\n",
    "    if __name__ == '__main__':\n",
    "        for epoch in range(3):    # 对整套数据训练3次\n",
    "             for step, (batch_x, batch_y) in enumerate(loader):  # 每一步loader释放一小批数据用来学习\n",
    "                    # 训练过程\n",
    "                    input=batch_x\n",
    "    #                 print(\"a\",input.shape)\n",
    "                    target=batch_y\n",
    "    #                 print(\"b\",target)\n",
    "                    outputs=model(input)#经过这个模型输出的是 如果批大小是4 就输出四行 每行是14个分类的 二维tensor ,\n",
    "    #                 print(\"c\",outputs)\n",
    "                    target =target.long() #转化成长整形张量进行计算 loss\n",
    "                    loss = criterion(outputs, target)\n",
    "    #                 print(loss.item())\n",
    "                    loss.backward()\n",
    "                    optimizer.step()\n",
    "                   # 打印数据\n",
    "                    print(\"第\"+str(i)+\"个320条数据内\",\"epoch世代:\", epoch, \"第\"+str(step)+\"个batch:\",\"这个batch的损失值\" ,loss.item())                    \n",
    "#保存训练模型\n",
    "torch.save(model.state_dict(), 'trainModel.pth')\n",
    "#模型加载：\n",
    "# model = BiRNN()\n",
    "# model.load_state_dict(torch.load('trainModel.pth'))\n",
    "# model.eval()    "
   ]
  },
  {
   "cell_type": "markdown",
   "metadata": {},
   "source": [
    "数据集代码在视频下方的链接， 有问题加我头像微信交流。云cpu有点不稳定， 不过这个cpu的计算速度比i7-8700h还快 用我同门的测试来。\n",
    "估计测试完需要好久好久。 在实验室不方便讲话 \n",
    "一共是60个batch 一共1700条数据 \n",
    "分三个世代 \n",
    "也就是一共测试180个batch\n",
    "等第二轮看看损失函数降低把，模型很简单 双向lstm加全连接  用的glove预训练词向量 也可以用woed2vec 但是我觉得glove可能更好些  glove训练稍微有点麻烦哈哈，看到了 同样的数据在训练两遍 loss有点降低 但是降低很少  当然了有能力可以训练十个世代  但是我的电脑是不行哈哈   这个云还可以 我的gpu也不行 \n",
    "到此结束！"
   ]
  },
  {
   "cell_type": "code",
   "execution_count": null,
   "metadata": {},
   "outputs": [],
   "source": []
  }
 ],
 "metadata": {
  "kernelspec": {
   "display_name": "Python 3",
   "language": "python",
   "name": "python3"
  },
  "language_info": {
   "codemirror_mode": {
    "name": "ipython",
    "version": 3
   },
   "file_extension": ".py",
   "mimetype": "text/x-python",
   "name": "python",
   "nbconvert_exporter": "python",
   "pygments_lexer": "ipython3",
   "version": "3.7.0"
  }
 },
 "nbformat": 4,
 "nbformat_minor": 4
}
