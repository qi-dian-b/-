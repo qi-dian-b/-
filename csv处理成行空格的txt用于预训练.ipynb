{
 "cells": [
  {
   "cell_type": "code",
   "execution_count": null,
   "metadata": {},
   "outputs": [
    {
     "name": "stdout",
     "output_type": "stream",
     "text": [
      "200001\n"
     ]
    }
   ],
   "source": [
    "#把csv中的数据把lebel和txt分开 写入txt  tetx这个句子词用于glove或者word2vec训练使用的 \n",
    "import pandas as pd\n",
    "def save_textorlabel_txt(in_filename,out_text_filename,out_label_filename):\n",
    "    df=pd.read_csv(in_filename)\n",
    "    with open(in_filename, 'r') as f: #计算长度\n",
    "        hang_count=len(f.readlines())\n",
    "        print(hang_count)\n",
    "    for i in range(1,hang_count-1,1): #以防数据多少回出现问题啥的 \n",
    "        row=df.values[i]\n",
    "        row=row[0].split()  #把这一行数据变成一个列表\n",
    "        label=row[0]        # 取出来列表的第一个值是标签 \n",
    "        file_0=open(out_label_filename,'a')\n",
    "        file_0.write(str(label))\n",
    "        file_0.write(\"\\n\")\n",
    "        file_0.close()\n",
    "        hang_txt=row[1:]    # 取出来剩余的数据是这一行的数据\n",
    "        file = open(out_text_filename,'a')\n",
    "        for i in range(len(hang_txt)):\n",
    "             file.write(str(hang_txt[i])+\" \")\n",
    "        file.write(\"\\n\")\n",
    "        file.close()\n",
    "    print(\"完成了\")\n",
    "save_textorlabel_txt('train_set.csv','text20000.txt','label20000.txt')"
   ]
  },
  {
   "cell_type": "code",
   "execution_count": 1,
   "metadata": {},
   "outputs": [
    {
     "name": "stdout",
     "output_type": "stream",
     "text": [
      "200001\n"
     ]
    }
   ],
   "source": [
    "with open('train_set.csv', 'r') as f: #计算长度\n",
    "        hang_count=len(f.readlines())\n",
    "        print(hang_count)"
   ]
  },
  {
   "cell_type": "code",
   "execution_count": null,
   "metadata": {},
   "outputs": [],
   "source": []
  }
 ],
 "metadata": {
  "kernelspec": {
   "display_name": "Python 3",
   "language": "python",
   "name": "python3"
  },
  "language_info": {
   "codemirror_mode": {
    "name": "ipython",
    "version": 3
   },
   "file_extension": ".py",
   "mimetype": "text/x-python",
   "name": "python",
   "nbconvert_exporter": "python",
   "pygments_lexer": "ipython3",
   "version": "3.7.0"
  }
 },
 "nbformat": 4,
 "nbformat_minor": 4
}
